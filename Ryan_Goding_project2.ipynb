{
  "nbformat": 4,
  "nbformat_minor": 0,
  "metadata": {
    "kernelspec": {
      "display_name": "Python 3",
      "language": "python",
      "name": "python3"
    },
    "language_info": {
      "codemirror_mode": {
        "name": "ipython",
        "version": 3
      },
      "file_extension": ".py",
      "mimetype": "text/x-python",
      "name": "python",
      "nbconvert_exporter": "python",
      "pygments_lexer": "ipython3",
      "version": "3.7.4"
    },
    "toc": {
      "base_numbering": 1,
      "nav_menu": {},
      "number_sections": false,
      "sideBar": true,
      "skip_h1_title": true,
      "title_cell": "Table of Contents",
      "title_sidebar": "Contents",
      "toc_cell": false,
      "toc_position": {},
      "toc_section_display": true,
      "toc_window_display": false
    },
    "colab": {
      "name": "Ryan Goding_project2.ipynb",
      "provenance": [],
      "collapsed_sections": [],
      "include_colab_link": true
    }
  },
  "cells": [
    {
      "cell_type": "markdown",
      "metadata": {
        "id": "view-in-github",
        "colab_type": "text"
      },
      "source": [
        "<a href=\"https://colab.research.google.com/github/rgoding2004/w207/blob/main/Ryan_Goding_project2.ipynb\" target=\"_parent\"><img src=\"https://colab.research.google.com/assets/colab-badge.svg\" alt=\"Open In Colab\"/></a>"
      ]
    },
    {
      "cell_type": "markdown",
      "metadata": {
        "id": "iNALzZOKTzOS"
      },
      "source": [
        "# Project 2: Digit Classification Naive Bayes\n",
        "\n",
        "**Solution**"
      ]
    },
    {
      "cell_type": "markdown",
      "metadata": {
        "id": "EBRkdIUUTzOV"
      },
      "source": [
        "# Intro\n",
        "---\n",
        "In this project, you'll continue working on your own image recognition system for classifying digits. Read through the code and the instructions carefully and add your own code where indicated. Each problem can be addressed succinctly with the included packages -- please don't add any more. \n",
        "As always, you're welcome to work on the project in groups and discuss ideas over Slack, but <b> please prepare your own write-up (with your own code). </b>\n",
        "\n",
        "\n",
        "## Grading\n",
        "---\n",
        " - Make sure to answer every part in every question.\n",
        " - There are 6 questions, each equally weighted and an additional bonus question.\n",
        " - The extra credit question will be graded based on your attempts at feature engineering and resulting improved accuracy.\n",
        " - Read carefully what is asked including the notes.\n",
        " - Additional points may be deducted if:\n",
        "   - the code is not clean, well commented,\n",
        "  -  if the functions or answers are too long.\n",
        "\n",
        "## Requirements:\n",
        "---\n",
        "1. Comment your code.\n",
        "1. All graphs should have titles, label for each axis, and if needed a legend. It should be understandable on its own.\n",
        "1. All code must run on colab.research.google.com\n",
        "1. You should not import any additional libraries.\n",
        "1. Try and minimize the use of the global namespace (meaning keep things in functions).\n",
        "\n",
        "## Additional Reading and notes\n",
        "---\n",
        "If you're interested, check out these links related to digit recognition:\n",
        "\n",
        "* Yann Lecun's MNIST benchmarks: http://yann.lecun.com/exdb/mnist/\n",
        "* Stanford Streetview research and data: http://ufldl.stanford.edu/housenumbers/\n",
        "\n",
        "Finally, if you'd like to get started with Tensorflow, you can read through this tutorial: https://www.tensorflow.org/tutorials/keras/basic_classification. It uses a dataset called \"fashion_mnist\", which is identical in structure to the original digit mnist, but uses images of clothing rather than images of digits. The number of training examples and number of labels is the same. In fact, you can simply replace the code that loads \"fashion_mnist\" with \"mnist\" and everything should work fine."
      ]
    },
    {
      "cell_type": "code",
      "metadata": {
        "id": "r8u7GmsDTzOX"
      },
      "source": [
        "# This tells matplotlib not to try opening a new window for each plot.\n",
        "%matplotlib inline\n",
        "\n",
        "# Import a bunch of libraries.\n",
        "import time\n",
        "import numpy as np\n",
        "import pandas as pd\n",
        "import matplotlib.pyplot as plt\n",
        "from matplotlib.ticker import MultipleLocator\n",
        "from sklearn.pipeline import Pipeline\n",
        "from sklearn.datasets import fetch_openml\n",
        "from sklearn.neighbors import KNeighborsClassifier\n",
        "from sklearn.metrics import confusion_matrix\n",
        "from sklearn.linear_model import LinearRegression\n",
        "from sklearn.naive_bayes import BernoulliNB\n",
        "from sklearn.naive_bayes import MultinomialNB\n",
        "from sklearn.naive_bayes import GaussianNB\n",
        "from sklearn.model_selection import GridSearchCV\n",
        "from sklearn.metrics import classification_report\n",
        "\n",
        "# Set the randomizer seed so results are the same each time.\n",
        "np.random.seed(0)"
      ],
      "execution_count": null,
      "outputs": []
    },
    {
      "cell_type": "code",
      "metadata": {
        "id": "bWOWoq_dTzOY",
        "colab": {
          "base_uri": "https://localhost:8080/",
          "height": 38
        },
        "outputId": "461550c9-f5d0-4f19-d1a1-c9cef44a6802"
      },
      "source": [
        "import sklearn\n",
        "sklearn.__version__"
      ],
      "execution_count": null,
      "outputs": [
        {
          "output_type": "execute_result",
          "data": {
            "application/vnd.google.colaboratory.intrinsic+json": {
              "type": "string"
            },
            "text/plain": [
              "'0.22.2.post1'"
            ]
          },
          "metadata": {},
          "execution_count": 2
        }
      ]
    },
    {
      "cell_type": "markdown",
      "metadata": {
        "id": "J1-CAjA9TzOa"
      },
      "source": [
        "Load the data. Notice that the data gets partitioned into training, development, and test sets. Also, a small subset of the training data called mini_train_data and mini_train_labels gets defined, which you should use in all the experiments below, unless otherwise noted."
      ]
    },
    {
      "cell_type": "code",
      "metadata": {
        "id": "f9kPmCW0TzOb",
        "colab": {
          "base_uri": "https://localhost:8080/"
        },
        "outputId": "63f9a9bf-1ff9-4a11-ec5d-97576810de7c"
      },
      "source": [
        "# Load the digit data from https://www.openml.org/d/554 or from default local location '~/scikit_learn_data/...'\n",
        "X, Y = fetch_openml(name='mnist_784', return_X_y=True, cache=False)\n",
        "\n",
        "# Rescale grayscale values to [0,1].\n",
        "X = X / 255.0\n",
        "\n",
        "# Shuffle the input: create a random permutation of the integers between 0 and the number of data points and apply this\n",
        "# permutation to X and Y.\n",
        "# NOTE: Each time you run this cell, you'll re-shuffle the data, resulting in a different ordering.\n",
        "shuffle = np.random.permutation(np.arange(X.shape[0]))\n",
        "X, Y = X[shuffle], Y[shuffle]\n",
        "\n",
        "print('data shape: ', X.shape)\n",
        "print('label shape:', Y.shape)\n",
        "\n",
        "# Set some variables to hold test, dev, and training data.\n",
        "test_data, test_labels = X[61000:], Y[61000:]\n",
        "dev_data, dev_labels = X[60000:61000], Y[60000:61000]\n",
        "train_data, train_labels = X[:60000], Y[:60000]\n",
        "mini_train_data, mini_train_labels = X[:1000], Y[:1000]"
      ],
      "execution_count": null,
      "outputs": [
        {
          "output_type": "stream",
          "name": "stdout",
          "text": [
            "data shape:  (70000, 784)\n",
            "label shape: (70000,)\n"
          ]
        }
      ]
    },
    {
      "cell_type": "markdown",
      "metadata": {
        "id": "gr40-NstTzOl"
      },
      "source": [
        "### Question 1: Applying a smoothing using numpy.\n",
        "---\n",
        "\n",
        "A common image processing technique is to smooth an image by **blurring**. The idea is that the value of a particular pixel is estimated as the weighted combination of the original value and the values around it. Typically, the blurring is Gaussian, i.e., the weight of a pixel's influence is determined by a Gaussian function over the distance to the relevant pixel.\n",
        "\n",
        "1. Implement a simplified Gaussian blur filter by just using the 8 neighboring pixels like this: the smoothed value of a pixel is a weighted combination of the original value and the 8 neighboring values.\n",
        "1. Choose some weights as a starting point. Produce and evaluate four 1-Nearest Neighbor models by applying your blur filter in these ways:\n",
        "  1. Do not use the filter\n",
        "  1. Filter the training data but not the dev data\n",
        "  1. Filter the dev data but not the training data\n",
        "  1. Filter both training data and dev data\n",
        "1. Show the accuracies of the four models evaluated as described. What do you see? Can you explain why this is?\n",
        "1. Experiment with weights that makes one model's accuracy at least 0.9.\n",
        "\n",
        "Notes:\n",
        "* Train on the (filtered) mini train set.\n",
        "* Evaluate performance on the (filtered) dev set.\n",
        "* A good trick to simplify your code is to use numpy's pad function to add 0s around your original array so you don't have to deal with \"edge cases\".\n",
        "* In addition, you can use numpy to multiply and sum slices of two arrays.\n",
        "* [This notebook](https://colab.research.google.com/drive/1eJXTQLtREXQjQIsLOA9uCrBl6B049-pO) might help shows some example numpy code.\n",
        "* In general, [numpy operations will be much faster than for loops](https://colab.research.google.com/drive/1KJI4JtuIqVdyZHTTe_mAlKYA5XdLFp3_). \n",
        "* There are other Guassian blur filters available, for example in `scipy.ndimage.filters`. You are welcome to experiment with those, but in this question, please implement your own."
      ]
    },
    {
      "cell_type": "code",
      "metadata": {
        "id": "ebHGUU0eTzOl",
        "colab": {
          "base_uri": "https://localhost:8080/"
        },
        "outputId": "26cafe57-e31a-410c-eabe-67201f156500"
      },
      "source": [
        "def Q1():\n",
        "    \n",
        "### STUDENT START ###\n",
        "  def accuracy(predicted_list):\n",
        "      correct, total = 0,0\n",
        "      for i in range(len(predicted_list)):\n",
        "        if predicted_list[i] == dev_labels[i]:\n",
        "          correct +=1\n",
        "          total +=1\n",
        "        else:\n",
        "          total +=1 \n",
        "      #Print Accuracy Results\n",
        "      print('total: %3d correct: %3d accuracy: %3.2f' %(total, correct, 100*correct/total)+'%\\n')\n",
        "\n",
        "  neigh_q1 = KNeighborsClassifier(1)\n",
        "  #Show Results with No filter\n",
        "  predict_list =[]\n",
        "  neigh_q1.fit(mini_train_data, mini_train_labels)\n",
        "  predict_list = neigh_q1.predict(dev_data)\n",
        "  print('Accuracy for 1-Nearest Neighbor Model without any filtering:')\n",
        "  accuracy(predict_list)\n",
        "\n",
        "  #Filter Function\n",
        "  def filter(data):\n",
        "    array_list =[]\n",
        "    for array in data:\n",
        "      weight = (1/9)\n",
        "      #Create temp array for new calc values\n",
        "      temp_array = np.zeros((30,30))\n",
        "      #reshape each array in mini_train_data\n",
        "      #deep copy array\n",
        "      array_copy = array.copy()\n",
        "      re_shape = np.reshape(array_copy, (28,28))\n",
        "      #pad zeros around reshaped training data array\n",
        "      re_shape_pad = np.pad(re_shape, [(1,1), (1,1)], mode = 'constant', constant_values = 0)\n",
        "      #calc new pixel values\n",
        "      #row counter\n",
        "      for i in range(29):\n",
        "        #column counter\n",
        "        for j in range(29):\n",
        "          temp_array[i,j] = weight*(np.sum(re_shape_pad[j-1,i-1:i+2:1]) + np.sum(re_shape_pad[j+1, i-1:i+2:1]) \\\n",
        "          + re_shape_pad[j, i-1] + re_shape_pad[j, i+1])\n",
        "      #Remove padded rows and columns\n",
        "      #delete first column and last column in temp_array\n",
        "      temp_array = np.delete(temp_array, [0,29], 1)\n",
        "      #delete first row and last row in temp_array\n",
        "      temp_array = np.delete(temp_array, [0,29], 0)\n",
        "      array_list.append(temp_array)\n",
        "    #change list of arrays to array of arrays\n",
        "    A = np.array(array_list)\n",
        "    #reshape array of arrays\n",
        "    A_reshape = np.reshape(A, (1000,784))\n",
        "    return A_reshape\n",
        "  \n",
        "  #filter training data\n",
        "  filter(mini_train_data)\n",
        "  #store for later use\n",
        "  filter_training_data = A_reshape\n",
        "  #training on new filtered train set\n",
        "  neigh_q1.fit(A_reshape, mini_train_labels)\n",
        "  predict_list = neigh_q1.predict(dev_data)\n",
        "  print('Accuracy for 1-Nearest Neighbor Model with only mini_train_data filtering:')\n",
        "  accuracy(predict_list)\n",
        "\n",
        "  #filter dev data\n",
        "  filter(dev_data)\n",
        "  #store for later use\n",
        "  filter_dev_data = A_reshape\n",
        "  neigh_q1.fit(mini_train_data, mini_train_labels)\n",
        "  #predict on filtered dev set\n",
        "  predict_list = neigh_q1.predict(A_reshape)\n",
        "  print('Accuracy for 1-Nearest Neighbor Model with only dev_data filtering:')\n",
        "  accuracy(predict_list)\n",
        "\n",
        "  #filter both dev data and training data\n",
        "  neigh_q1.fit(filter_training_data, mini_train_labels)\n",
        "  predict_list = neigh_q1.predict(filter_dev_data)\n",
        "  print('Accuracy for 1-Nearest Neighbor Model with bith dev_data and mini_train_data filtered:')\n",
        "  accuracy(predict_list)\n",
        "\n",
        "### STUDENT END ###\n",
        "\n",
        "Q1()"
      ],
      "execution_count": null,
      "outputs": [
        {
          "output_type": "stream",
          "name": "stdout",
          "text": [
            "Accuracy for 1-Nearest Neighbor Model without any filtering:\n",
            "total: 1000 correct: 884 accuracy: 88.40%\n",
            "\n",
            "Accuracy for 1-Nearest Neighbor Model with only mini_train_data filtering:\n",
            "total: 1000 correct: 130 accuracy: 13.00%\n",
            "\n",
            "Accuracy for 1-Nearest Neighbor Model with only dev_data filtering:\n",
            "total: 1000 correct:  97 accuracy: 9.70%\n",
            "\n",
            "Accuracy for 1-Nearest Neighbor Model with bith dev_data and mini_train_data filtered:\n",
            "total: 1000 correct: 114 accuracy: 11.40%\n",
            "\n"
          ]
        }
      ]
    },
    {
      "cell_type": "markdown",
      "metadata": {
        "id": "aN3HZPGuTzOn"
      },
      "source": [
        "### Question 2: Modeling your data and experimenting with different Naive Bayes models. \n",
        "---\n",
        "\n",
        "1. Produce two Naive Bayes models and evaluate their performances.  Recall that Naive Bayes estimates P(feature|label), where each label is a categorical, not a real number.\n",
        "  1. For the first model, map pixel values to either 0 or 1, representing white or black - you should pre-process the data or use `BernoulliNB`'s `binarize` parameter to set the white/black separation threshold to 0.1.  Use `BernoulliNB` to produce the model.\n",
        "  1. For the second model, map pixel values to either 0, 1, or 2, representing white, gray, or black - you should pre-process the data, seting the white/gray/black separation thresholds to 0.1 and 0.9.  Here you'll likely need to implement a `trianarize` helper function. Since we are going beyond the binary representation of our features, you should use `MultinomialNB` to produce the model.\n",
        "1. Show the Bernoulli model accuracy and the Multinomial model accuracy.\n",
        "1. Does the multinomial version improve the results? Why or why not?\n",
        "\n",
        "Notes:\n",
        "* Train on the mini train set.\n",
        "* Evaluate performance on the dev set.\n",
        "\n"
      ]
    },
    {
      "cell_type": "code",
      "metadata": {
        "id": "_1edM3ehTzOn",
        "colab": {
          "base_uri": "https://localhost:8080/"
        },
        "outputId": "7fac629d-6a07-41fa-d3a4-0e72473b47da"
      },
      "source": [
        "# Solution with binarization by explicit binarize function\n",
        "\n",
        "def Q2():\n",
        "  def accuracy(predicted_list):\n",
        "    correct, total = 0,0\n",
        "    for i in range(len(predicted_list)):\n",
        "      if predicted_list[i] == dev_labels[i]:\n",
        "        correct +=1\n",
        "        total +=1\n",
        "      else:\n",
        "        total +=1 \n",
        "    #Print Accuracy Results\n",
        "    print('total: %3d correct: %3d accuracy: %3.2f' %(total, correct, 100*correct/total)+'%\\n')\n",
        "\n",
        "### STUDENT START ###\n",
        "#preprocess data for second model\n",
        "  mini_train_data_grayscale = mini_train_data.copy()\n",
        "  for array in mini_train_data_grayscale:\n",
        "    for i in range(len(array)):\n",
        "      if array[i] > .9:\n",
        "        array[i] = 2\n",
        "      elif .1 <= array[i] <= .9:\n",
        "        array[i] = 1\n",
        "      else:\n",
        "        array[i] = 0\n",
        "        \n",
        " \n",
        "  #create two Naive Bayes Models\n",
        "  model_1 = BernoulliNB(binarize=.1)\n",
        "  model_2 = MultinomialNB()\n",
        "  \n",
        "  #fit model 1\n",
        "  model_1.fit(mini_train_data, mini_train_labels)\n",
        "  #run prediction on dev_data\n",
        "  model_1_predict_list = model_1.predict(dev_data)\n",
        "  #run accuracy function on model_1\n",
        "  print('Accuracy for Bernoulli Model:')\n",
        "  accuracy(model_1_predict_list)\n",
        "\n",
        "  #fit model 2\n",
        "  model_2.fit(mini_train_data_grayscale, mini_train_labels)\n",
        "  model_2_predicted_list = model_2.predict(dev_data)\n",
        "  print('Accuracy for Multinomial Model:')\n",
        "  accuracy(model_2_predicted_list)\n",
        "### STUDENT END ###\n",
        "\n",
        "Q2()"
      ],
      "execution_count": null,
      "outputs": [
        {
          "output_type": "stream",
          "name": "stdout",
          "text": [
            "Accuracy for Bernoulli Model:\n",
            "total: 1000 correct: 834 accuracy: 83.40%\n",
            "\n",
            "Accuracy for Multinomial Model:\n",
            "total: 1000 correct: 811 accuracy: 81.10%\n",
            "\n"
          ]
        }
      ]
    },
    {
      "cell_type": "markdown",
      "metadata": {
        "id": "Bbbpzl5ETzOp"
      },
      "source": [
        "\n",
        "\n",
        "\n",
        "ANSWER: The multinomial model is performing worse than the Bernouilli model because it is treating white, gray, and black as features that are independent of each other and because of this it is losing information.  This is not how handwriting works.  If you have a pixel that is gray, the next pixel is likely to be grey or a a little darker or a little lighter.  The next pixel is unlikely to be completely different from the neighboring pixel. \n"
      ]
    },
    {
      "cell_type": "markdown",
      "metadata": {
        "id": "ymzuQZwsTzOp"
      },
      "source": [
        "### Question 3: Applying the grid search technique.\n",
        "1. Search across several values of the LaPlace smoothing parameter (alpha) to find its effect on a Bernoulli Naive Bayes model's performance.  Show the accuracy at each alpha value.\n",
        "1. What is the best value for alpha? What is the accuracy when alpha is near 0? Is this what you'd expect?\n",
        "\n",
        "Notes:\n",
        "* Set binarization threshold to 0.\n",
        "* Train on the mini train set.\n",
        "* Evaluate performance by 5-fold cross-validation. \n",
        "* Use `GridSearchCV(..., ..., cv=..., scoring='accuracy', iid=False)` to vary alpha and evaluate performance by cross-validation.\n",
        "* Cross-validation is based on partitions of the training data, so results will be a bit different than if you had used the dev set to evaluate performance.\n",
        "\n"
      ]
    },
    {
      "cell_type": "code",
      "metadata": {
        "id": "1qc1fG0OTzOq",
        "colab": {
          "base_uri": "https://localhost:8080/"
        },
        "outputId": "67b5a7bf-9364-4861-bc59-2c0236124f57"
      },
      "source": [
        "def Q3(alphas):\n",
        "\n",
        "### STUDENT START ###\n",
        "  \n",
        "  #create BernoulliNB model with binarization threshold set to zero\n",
        "  q3_model = BernoulliNB(binarize=0)\n",
        "  #fit to mini_train_data set\n",
        "  q3_model.fit(mini_train_data, mini_train_labels)\n",
        "  #set grid to vary alphas\n",
        "  grid = GridSearchCV(estimator = q3_model, param_grid=alphas, scoring='accuracy')\n",
        "  grid.fit(mini_train_data, mini_train_labels)\n",
        "  print('The mean test score for each Laplace Smoothing Parameter is:')\n",
        "  print(grid.cv_results_['mean_test_score'])\n",
        "\n",
        "\n",
        "### STUDENT END ###\n",
        "\n",
        "alphas = {'alpha': [1.0e-10, 0.0001, 0.001, 0.01, 0.1, 0.5, 1.0, 2.0, 10.0]}\n",
        "Q3(alphas)\n"
      ],
      "execution_count": null,
      "outputs": [
        {
          "output_type": "stream",
          "name": "stdout",
          "text": [
            "The mean test score for each Laplace Smoothing Parameter is:\n",
            "[0.814 0.819 0.825 0.822 0.818 0.813 0.809 0.805 0.783]\n"
          ]
        }
      ]
    },
    {
      "cell_type": "markdown",
      "metadata": {
        "id": "6g4fnGFPTzOq"
      },
      "source": [
        "ANSWER: The best value for alpha is 0.825 for an alpha value of 0.001.  The accuracy for alphas when it is near zero is 0.814. It was expected that lower values of alpha would produce better test scores.  As the value of alpha increases the expected likehood is 0.5 and this doesn't provide much information for the model."
      ]
    },
    {
      "cell_type": "markdown",
      "metadata": {
        "id": "aQ6MaDU6TzOr"
      },
      "source": [
        "### Question 4: Experimenting with Gaussian Naive Bayes\n",
        "---\n",
        "1. Produce a model using Guassian Naive Bayes, which is intended for real-valued features, and evaluate performance. You will notice that it does not work so well. \n",
        "1. Diagnose and explain the problem.\n",
        "1. Apply a simple fix so that the model accuracy is around the same as for a Bernoulli Naive Bayes model. \n",
        "1. Show the model accuracy before your fix and the model accuracy after your fix.  \n",
        "1. Explain your solution.\n",
        "\n",
        "Notes:\n",
        "* Train on the mini train set.\n",
        "* Evaluate performance on the dev set.\n",
        "* Take a look at var_smoothing argument for GaussianNB.\n",
        "* Feel free to  examine theta and sigma to better understand what's happening. In general though, **it is not a good idea to mess with internal variables of the model**. These are stored in the model's `theta_` and `sigma_` attributes."
      ]
    },
    {
      "cell_type": "code",
      "metadata": {
        "id": "XqW86YbKTzOr",
        "colab": {
          "base_uri": "https://localhost:8080/"
        },
        "outputId": "1c6c472c-6933-4d8d-be6c-3818719de59f"
      },
      "source": [
        "def Q4():\n",
        "\n",
        "### STUDENT END ###\n",
        "\n",
        "  def accuracy(predicted_list):\n",
        "      correct, total = 0,0\n",
        "      for i in range(len(predicted_list)):\n",
        "        if predicted_list[i] == dev_labels[i]:\n",
        "          correct +=1\n",
        "          total +=1\n",
        "        else:\n",
        "          total +=1 \n",
        "      #Print Accuracy Results\n",
        "      print('total: %3d correct: %3d accuracy: %3.2f' %(total, correct, 100*correct/total)+'%\\n')\n",
        "\n",
        "  model_q4 = GaussianNB()\n",
        "  model_q4.fit(mini_train_data, mini_train_labels)\n",
        "  predict_list = []\n",
        "  predict_list = model_q4.predict(dev_data)\n",
        "  print('Gaussian Naive Bayes Performance:')\n",
        "  accuracy(predict_list)\n",
        "\n",
        "  #Apply Fix, variance smoothing, to Gaussian Naive Bayes\n",
        "  model_q4_fix = GaussianNB(var_smoothing=.1)\n",
        "  model_q4_fix.fit(mini_train_data, mini_train_labels)\n",
        "  predict_list_fix =[]\n",
        "  predict_list_fix = model_q4_fix.predict(dev_data)\n",
        "  print('Gaussian Naive Bayes with fix performance:')\n",
        "  accuracy(predict_list_fix)\n",
        "\n",
        "### STUDENT END ###\n",
        "\n",
        "Q4()"
      ],
      "execution_count": null,
      "outputs": [
        {
          "output_type": "stream",
          "name": "stdout",
          "text": [
            "Gaussian Naive Bayes Performance:\n",
            "total: 1000 correct: 593 accuracy: 59.30%\n",
            "\n",
            "Gaussian Naive Bayes with fix performance:\n",
            "total: 1000 correct: 817 accuracy: 81.70%\n",
            "\n"
          ]
        }
      ]
    },
    {
      "cell_type": "markdown",
      "metadata": {
        "id": "wE5eQXsPTzOs"
      },
      "source": [
        "ANSWER: The problem is that the Gaussian NB model is assuming that the pixels in each class will follow a normal distribution. The low accuracy without the fix shows this assumtion does not apply to our mini_train_data set.  By applying variance smoothing the largest variance of the specified features is added to the variances and stablizes the calculations."
      ]
    },
    {
      "cell_type": "markdown",
      "metadata": {
        "id": "AXx4SGNeTzOs"
      },
      "source": [
        "### Question 5: Naive Bayes as a generative model\n",
        "---\n",
        "Because Naive Bayes produces a generative model, you can use it to generate digit images.\n",
        "\n",
        "1. Produce a Bernoulli Naive Bayes model and then use it to generate a 10x10 grid with 10 example images of each digit. Each pixel output will be either 0 or 1: randomly generating a number and then comparing it to the estimated probability of the pixel being either 0 or 1.  Show the grid.\n",
        "1. How do the generated digit images compare to the training digit images?\n",
        "\n",
        "Notes:\n",
        "* You can use np.random.rand() to generate random numbers from a uniform distribution.\n",
        "* The estimated probability of each pixel being 0 or 1 is stored in the model's `feature_log_prob_` attribute. You can use `np.exp()` to convert a log probability back to a probability.\n",
        "\n"
      ]
    },
    {
      "cell_type": "code",
      "metadata": {
        "scrolled": false,
        "id": "WDCNbv7ETzOt",
        "colab": {
          "base_uri": "https://localhost:8080/",
          "height": 687
        },
        "outputId": "a26b152b-86d6-408f-af5e-e731c986ca26"
      },
      "source": [
        "def Q5(num_examples):\n",
        "\n",
        "### STUDENT START ###\n",
        "  #Create BernoulliNB Model to estimate each pixel probability being 0 or 1\n",
        "  model_q5 = BernoulliNB(binarize=.1)\n",
        "  array_list = []\n",
        "  #fit model_q5\n",
        "  model_q5.fit(mini_train_data, mini_train_labels)\n",
        "  #create temp empty array\n",
        "  temp_array = np.zeros((784,1))\n",
        "\n",
        "  #counter for each class\n",
        "  for i in range(10):\n",
        "    #counter for 10 examples of each class\n",
        "    for p in range(num_examples):\n",
        "      #counter for each pixel prob by Bernoulli NB model\n",
        "      for j in range(len(model_q5.feature_log_prob_[i])):\n",
        "        #if the probability for specified class is larger than random binom number, make black\n",
        "        if np.exp(model_q5.feature_log_prob_[i][j]) > np.random.rand():\n",
        "          temp_array[j] = 1\n",
        "        #else make white\n",
        "        else:\n",
        "          temp_array[j] = 0\n",
        "      #add temp array to array list\n",
        "      array_list.append(temp_array) \n",
        "      #reset temp array\n",
        "      temp_array = np.zeros((784,1))\n",
        "\n",
        "  #Create 10x10 plot of 10 examples each class\n",
        "  plt.figure(figsize = (12,12))\n",
        "  for i in range(len(array_list)):\n",
        "    plt.subplot(num_examples,num_examples,i+1)\n",
        "    plt.xticks([])\n",
        "    plt.yticks([])\n",
        "    plt.grid(False)\n",
        "    #reshape array\n",
        "    array_reshaped = np.reshape(array_list[i], (28,28))\n",
        "    plt.imshow(array_reshaped, cmap = 'gray')\n",
        "  plt.show()\n",
        "\n",
        "### STUDENT END ###\n",
        "\n",
        "Q5(10)"
      ],
      "execution_count": null,
      "outputs": [
        {
          "output_type": "display_data",
          "data": {
            "image/png": "[encoded data removed]",
            "text/plain": [
              "<Figure size 864x864 with 100 Axes>"
            ]
          },
          "metadata": {}
        }
      ]
    },
    {
      "cell_type": "markdown",
      "metadata": {
        "id": "2ENXdzngTzOu"
      },
      "source": [
        "ANSWER: The generated images are much fuzzier than the training images but you can still tell what numbers they are representing."
      ]
    },
    {
      "cell_type": "markdown",
      "metadata": {
        "id": "CRkUEi50TzOu"
      },
      "source": [
        "### Question 6: Model Calibraiton\n",
        "---\n",
        "Recall that:\n",
        " * a **strongly calibrated** classifier is rougly 90% accurate when it says it is 90% accurate. The model's estimated posterior probability of the predicted class is indeed 0.9. \n",
        " * A **weakly calibrated** classifier is more accurate when it \"says\" it is more accurate. The actual accuracy is higher when the model's estimated posterior probability is higher.\n",
        " * A **poorly calibrated** classifier has no positive correlation between the model's estimate posterior probability and the actual accuracy.\n",
        "\n",
        "1. Produce a Bernoulli Naive Bayes model.  \n",
        "1. Evaluate performance: \n",
        "  1. Partition the dev set into several buckets based on the estimated posterior probabilities of the predicted classes (predict_proba)\n",
        "    - Think of it as a bin in a histogram, where each bin groups a range of estimated posterior probabilities of the predicted classes (predict_proba).\n",
        "    - Then estimate the actual accuracy the classifier achieved for each bucket. \n",
        "    - So, for each prediction:\n",
        "       - Find the bucket whose range includes the estimated posterior probability, \n",
        "       - and update \"correct\" and \"total\" counters accordingly. \n",
        "       - Show the accuracy for each bucket.\n",
        "1. How would you characterize the calibration for this Bernoulli Naive Bayes model according to the definitions above?\n",
        "\n",
        "Notes:\n",
        "* Set LaPlace smoothing (alpha) to the optimal value (from part 8).\n",
        "* Set binarization threshold to 0.\n",
        "* Train on the mini train set.\n",
        "* Evaluate perfromance on the dev set.\n",
        "\n"
      ]
    },
    {
      "cell_type": "code",
      "metadata": {
        "id": "3Gz3NDY9TzOu",
        "colab": {
          "base_uri": "https://localhost:8080/"
        },
        "outputId": "ff1bd212-f9cc-4caa-df60-edaad4bd1f00"
      },
      "source": [
        "def Q6(buckets):\n",
        "    \n",
        "### STUDENT START ###\n",
        "  predict_list_q6 = []\n",
        "  prob_list = []\n",
        "  #create BernoulliNB Model, with binarization threshold set to 0\n",
        "  model_q6 = BernoulliNB(alpha=.001, binarize= 0 )\n",
        "  #fit model to training data\n",
        "  model_q6.fit(mini_train_data, mini_train_labels)\n",
        "  #Predict labels using test data\n",
        "  predict_list_q6 = model_q6.predict(dev_data)\n",
        "  #Estimated posterior prob using test data\n",
        "  prob_list = model_q6.predict_proba(dev_data)\n",
        "\n",
        "  #Loop to cycle through bucket list\n",
        "  for bucket in buckets:\n",
        "    bucket_total = 0\n",
        "    bucket_correct = 0\n",
        "    accuracy = 0\n",
        "    for i in range(len(mini_train_data)):\n",
        "      predicted_label = predict_list_q6[i]\n",
        "      #max value of posterior probability\n",
        "      predict_prob = max(prob_list[i])\n",
        "      true_label = mini_train_labels[i]\n",
        "      #check if predicted prob is less than or equal to bucket\n",
        "      if predict_prob <= bucket:\n",
        "        bucket_total +=1 \n",
        "      elif predicted_label == true_label:\n",
        "        bucket_correct +=1\n",
        "        bucket_total +=1\n",
        "    print('The accuracy for ' + str(bucket) + ' bucket is: ' + str(bucket_correct/bucket_total))\n",
        "  ### STUDENT END ###\n",
        "\n",
        "buckets = [0.5, 0.9, 0.999, 0.99999, 0.9999999, 0.999999999, 0.99999999999, 0.9999999999999, 1.0]\n",
        "\n",
        "Q6(buckets)"
      ],
      "execution_count": null,
      "outputs": [
        {
          "output_type": "stream",
          "name": "stdout",
          "text": [
            "The accuracy for 0.5 bucket is: 1.0\n",
            "The accuracy for 0.9 bucket is: 0.7919463087248322\n",
            "The accuracy for 0.999 bucket is: 0.5377358490566038\n",
            "The accuracy for 0.99999 bucket is: 0.4053030303030303\n",
            "The accuracy for 0.9999999 bucket is: 0.3233333333333333\n",
            "The accuracy for 0.999999999 bucket is: 0.2535211267605634\n",
            "The accuracy for 0.99999999999 bucket is: 0.22597402597402597\n",
            "The accuracy for 0.9999999999999 bucket is: 0.19953051643192488\n",
            "The accuracy for 1.0 bucket is: 0.0\n"
          ]
        }
      ]
    },
    {
      "cell_type": "markdown",
      "metadata": {
        "id": "7PYLz-1STzOu"
      },
      "source": [
        "\n",
        "\n",
        "\n",
        "ANSWER: From the results above this BernoulliNB model is poorly calibrated as there is no positive correlation between posterior probablity and actual accuracy. "
      ]
    },
    {
      "cell_type": "markdown",
      "metadata": {
        "id": "tIeZGen1TzOv"
      },
      "source": [
        "### Question 7 EXTRA CREDIT: Feature generation\n",
        "---\n",
        "1. Design new features to see if you can produce a Bernoulli Naive Bayes model with better performance.\n",
        "1. Show the accuracy of a model based on the original features and the accuracy of the model based on the new features.\n",
        "\n",
        "**Note that improving results is actually hard.**\n",
        "\n",
        "Here are a few ideas to get you started:\n",
        "- Try summing or averaging the pixel values in each row.\n",
        "- Try summing or averaging the pixel values in each column.\n",
        "- Try summing or averaging the pixel values in each square block. (pick various block sizes)\n",
        "- Try implementing [*maxpool*](https://computersciencewiki.org/index.php/Max-pooling_/_Pooling) features, taking a rolling maximum over sub-regions of a the image. \n",
        "- In any case, you can either transform the original data or add new \"features\" to it.\n",
        "\n",
        "Notes:\n",
        "* Train on the mini train set (enhanced to comprise the new features).\n",
        "* Evaulate performance on the dev set.\n",
        "* Ensure that your code is well commented."
      ]
    },
    {
      "cell_type": "code",
      "metadata": {
        "id": "6GtYu5ezTzOv"
      },
      "source": [
        "def Q7():\n",
        "\n",
        "### STUDENT START ###\n",
        "\n",
        "### STUDENT END ###\n",
        "\n",
        "Q7()"
      ],
      "execution_count": null,
      "outputs": []
    },
    {
      "cell_type": "code",
      "metadata": {
        "id": "4hOkGA6Rufd6"
      },
      "source": [
        ""
      ],
      "execution_count": null,
      "outputs": []
    }
  ]
}