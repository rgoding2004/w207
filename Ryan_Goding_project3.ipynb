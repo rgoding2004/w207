{
  "nbformat": 4,
  "nbformat_minor": 0,
  "metadata": {
    "kernelspec": {
      "display_name": "Python 3",
      "language": "python",
      "name": "python3"
    },
    "language_info": {
      "codemirror_mode": {
        "name": "ipython",
        "version": 3
      },
      "file_extension": ".py",
      "mimetype": "text/x-python",
      "name": "python",
      "nbconvert_exporter": "python",
      "pygments_lexer": "ipython3",
      "version": "3.7.4"
    },
    "toc": {
      "base_numbering": 1,
      "nav_menu": {},
      "number_sections": false,
      "sideBar": true,
      "skip_h1_title": true,
      "title_cell": "Table of Contents",
      "title_sidebar": "Contents",
      "toc_cell": false,
      "toc_position": {},
      "toc_section_display": true,
      "toc_window_display": false
    },
    "colab": {
      "name": "Ryan_Goding_project3.ipynb",
      "provenance": [],
      "collapsed_sections": [],
      "include_colab_link": true
    }
  },
  "cells": [
    {
      "cell_type": "markdown",
      "metadata": {
        "id": "view-in-github",
        "colab_type": "text"
      },
      "source": [
        "<a href=\"https://colab.research.google.com/github/rgoding2004/w207/blob/main/Ryan_Goding_project3.ipynb\" target=\"_parent\"><img src=\"https://colab.research.google.com/assets/colab-badge.svg\" alt=\"Open In Colab\"/></a>"
      ]
    },
    {
      "cell_type": "markdown",
      "metadata": {
        "id": "rWAjdfIsTyhI"
      },
      "source": [
        "# Project 3: Topic Classification using Naive Bayes\n",
        "\n",
        "**Solution**"
      ]
    },
    {
      "cell_type": "markdown",
      "metadata": {
        "id": "p0KwRzrQTyhL"
      },
      "source": [
        "# Intro\n",
        "---\n",
        "In this project, you'll work with text data from newsgroup posts on a variety of topics. You'll train classifiers to distinguish posts by topics inferred from the text. Whereas with digit classification, where each input is relatively **dense** (represented as a 28x28 matrix of pixels, many of which are non-zero), here each document is relatively **sparse** (represented as a **bag-of-words**). Only a few words of the total vocabulary are active in any given document. The assumption is that a label depends only on the count of words, not their order.\n",
        "\n",
        "The `sklearn` documentation on feature extraction may be useful:\n",
        "http://scikit-learn.org/stable/modules/feature_extraction.html\n",
        "\n",
        "Each problem can be addressed succinctly with the included packages -- please don't add any more. Grading will be based on writing clean, commented code, along with a few short answers.\n",
        "\n",
        "As always, you're welcome to work on the project in groups and discuss ideas on Slack, but <b> please prepare your own write-up with your own code. </b>\n",
        "\n",
        "## Grading\n",
        "---\n",
        "- Make sure to answer every part in every question.\n",
        " - There are 7 questions and one extra credit question. \n",
        " - Read carefully what is asked including the notes.\n",
        " - Additional points may be deducted if:\n",
        "   - the code is not clean and well commented, \n",
        "   - and if the functions or answers are too long.\n",
        "\n",
        " ## Requirements:\n",
        "---\n",
        "1. Comment your code.\n",
        "1. All graphs should have titles, label for each axis, and if needed a legend. It should be understandable on its own.\n",
        "1. All code must run on colab.research.google.com\n",
        "1. You should not import any additional libraries.\n",
        "1. Try and minimize the use of the global namespace (meaning keep things in functions).\n",
        "\n"
      ]
    },
    {
      "cell_type": "code",
      "metadata": {
        "id": "QNNjknnZTyhN"
      },
      "source": [
        "# This tells matplotlib not to try opening a new window for each plot.\n",
        "%matplotlib inline\n",
        "\n",
        "# General libraries.\n",
        "import re\n",
        "import numpy as np\n",
        "import pandas as pd\n",
        "import matplotlib.pyplot as plt\n",
        "\n",
        "# SK-learn libraries for learning.\n",
        "from sklearn.pipeline import Pipeline\n",
        "from sklearn.neighbors import KNeighborsClassifier\n",
        "from sklearn.linear_model import LogisticRegression\n",
        "from sklearn.naive_bayes import BernoulliNB\n",
        "from sklearn.naive_bayes import MultinomialNB\n",
        "\n",
        "# SK-learn libraries for evaluation.\n",
        "from sklearn.metrics import confusion_matrix\n",
        "from sklearn import metrics\n",
        "from sklearn.metrics import classification_report\n",
        "\n",
        "# SK-learn library for importing the newsgroup data.\n",
        "from sklearn.datasets import fetch_20newsgroups\n",
        "\n",
        "# SK-learn libraries for feature extraction from text.\n",
        "from sklearn.feature_extraction.text import *\n",
        "\n",
        "import nltk"
      ],
      "execution_count": 1,
      "outputs": []
    },
    {
      "cell_type": "markdown",
      "metadata": {
        "id": "orEWeRJaTyhO"
      },
      "source": [
        "Load the data, stripping out metadata so that only textual features will be used, and restricting documents to 4 specific topics. By default, newsgroups data is split into training and test sets, but here the test set gets further split into development and test sets.  (If you remove the categories argument from the fetch function calls, you'd get documents from all 20 topics.)"
      ]
    },
    {
      "cell_type": "code",
      "metadata": {
        "id": "5b9J-D5DTyhP",
        "colab": {
          "base_uri": "https://localhost:8080/"
        },
        "outputId": "c0c317c5-5aa7-42ba-a035-b6126c2f9570"
      },
      "source": [
        "categories = ['alt.atheism', 'talk.religion.misc', 'comp.graphics', 'sci.space']\n",
        "newsgroups_train = fetch_20newsgroups(subset='train',\n",
        "                                      remove=('headers', 'footers', 'quotes'),\n",
        "                                      categories=categories)\n",
        "newsgroups_test  = fetch_20newsgroups(subset='test',\n",
        "                                      remove=('headers', 'footers', 'quotes'),\n",
        "                                      categories=categories)\n",
        "\n",
        "num_test = int(len(newsgroups_test.target) / 2)\n",
        "test_data, test_labels   = newsgroups_test.data[num_test:], newsgroups_test.target[num_test:]\n",
        "dev_data, dev_labels     = newsgroups_test.data[:num_test], newsgroups_test.target[:num_test]\n",
        "train_data, train_labels = newsgroups_train.data, newsgroups_train.target\n",
        "\n",
        "print('training label shape:', train_labels.shape)\n",
        "print('dev label shape:',      dev_labels.shape)\n",
        "print('test label shape:',     test_labels.shape)\n",
        "print('labels names:',         newsgroups_train.target_names)"
      ],
      "execution_count": 2,
      "outputs": [
        {
          "output_type": "stream",
          "name": "stderr",
          "text": [
            "Downloading 20news dataset. This may take a few minutes.\n",
            "Downloading dataset from https://ndownloader.figshare.com/files/5975967 (14 MB)\n"
          ]
        },
        {
          "output_type": "stream",
          "name": "stdout",
          "text": [
            "training label shape: (2034,)\n",
            "dev label shape: (676,)\n",
            "test label shape: (677,)\n",
            "labels names: ['alt.atheism', 'comp.graphics', 'sci.space', 'talk.religion.misc']\n"
          ]
        }
      ]
    },
    {
      "cell_type": "markdown",
      "metadata": {
        "id": "zOS6IyT0TyhR"
      },
      "source": [
        "### Question 1: Examining your data\n",
        "---\n",
        "\n",
        " 1. For each of the first 5 training examples, print the text of the message along with the label (checkout newsgroups_train.target_names)."
      ]
    },
    {
      "cell_type": "code",
      "metadata": {
        "id": "LFFUipfaTyhS",
        "colab": {
          "base_uri": "https://localhost:8080/"
        },
        "outputId": "07b94d71-c2aa-4fd4-b078-c58f1e095149"
      },
      "source": [
        "def Q1(num_examples=5):\n",
        "    ### STUDENT START ###\n",
        "    print('Below shows the first five training examples text along with the label:\\n')\n",
        "    for i in range(num_examples):\n",
        "      print(train_data[i])\n",
        "      print(\"\\nlabel is: \" + str(categories[train_labels[i]]) + '\\n')\n",
        "    ### STUDENT END ###\n",
        "\n",
        "Q1(5)"
      ],
      "execution_count": null,
      "outputs": [
        {
          "output_type": "stream",
          "name": "stdout",
          "text": [
            "Below shows the first five training examples text along with the label:\n",
            "\n",
            "Hi,\n",
            "\n",
            "I've noticed that if you only save a model (with all your mapping planes\n",
            "positioned carefully) to a .3DS file that when you reload it after restarting\n",
            "3DS, they are given a default position and orientation.  But if you save\n",
            "to a .PRJ file their positions/orientation are preserved.  Does anyone\n",
            "know why this information is not stored in the .3DS file?  Nothing is\n",
            "explicitly said in the manual about saving texture rules in the .PRJ file. \n",
            "I'd like to be able to read the texture rule information, does anyone have \n",
            "the format for the .PRJ file?\n",
            "\n",
            "Is the .CEL file format available from somewhere?\n",
            "\n",
            "Rych\n",
            "\n",
            "label is: talk.religion.misc\n",
            "\n",
            "\n",
            "\n",
            "Seems to be, barring evidence to the contrary, that Koresh was simply\n",
            "another deranged fanatic who thought it neccessary to take a whole bunch of\n",
            "folks with him, children and all, to satisfy his delusional mania. Jim\n",
            "Jones, circa 1993.\n",
            "\n",
            "\n",
            "Nope - fruitcakes like Koresh have been demonstrating such evil corruption\n",
            "for centuries.\n",
            "\n",
            "label is: sci.space\n",
            "\n",
            "\n",
            " >In article <1993Apr19.020359.26996@sq.sq.com>, msb@sq.sq.com (Mark Brader) \n",
            "\n",
            "MB>                                                             So the\n",
            "MB> 1970 figure seems unlikely to actually be anything but a perijove.\n",
            "\n",
            "JG>Sorry, _perijoves_...I'm not used to talking this language.\n",
            "\n",
            "Couldn't we just say periapsis or apoapsis?\n",
            "\n",
            " \n",
            "\n",
            "label is: comp.graphics\n",
            "\n",
            "I have a request for those who would like to see Charley Wingate\n",
            "respond to the \"Charley Challenges\" (and judging from my e-mail, there\n",
            "appear to be quite a few of you.)  \n",
            "\n",
            "It is clear that Mr. Wingate intends to continue to post tangential or\n",
            "unrelated articles while ingoring the Challenges themselves.  Between\n",
            "the last two re-postings of the Challenges, I noted perhaps a dozen or\n",
            "more posts by Mr. Wingate, none of which answered a single Challenge.  \n",
            "\n",
            "It seems unmistakable to me that Mr. Wingate hopes that the questions\n",
            "will just go away, and he is doing his level best to change the\n",
            "subject.  Given that this seems a rather common net.theist tactic, I\n",
            "would like to suggest that we impress upon him our desire for answers,\n",
            "in the following manner:\n",
            "\n",
            "1. Ignore any future articles by Mr. Wingate that do not address the\n",
            "Challenges, until he answers them or explictly announces that he\n",
            "refuses to do so.\n",
            "\n",
            "--or--\n",
            "\n",
            "2. If you must respond to one of his articles, include within it\n",
            "something similar to the following:\n",
            "\n",
            "    \"Please answer the questions posed to you in the Charley Challenges.\"\n",
            "\n",
            "Really, I'm not looking to humiliate anyone here, I just want some\n",
            "honest answers.  You wouldn't think that honesty would be too much to\n",
            "ask from a devout Christian, would you?  \n",
            "\n",
            "Nevermind, that was a rhetorical question.\n",
            "\n",
            "label is: alt.atheism\n",
            "\n",
            "AW&ST  had a brief blurb on a Manned Lunar Exploration confernce\n",
            "May 7th  at Crystal City Virginia, under the auspices of AIAA.\n",
            "\n",
            "Does anyone know more about this?  How much, to attend????\n",
            "\n",
            "Anyone want to go?\n",
            "\n",
            "label is: comp.graphics\n",
            "\n"
          ]
        }
      ]
    },
    {
      "cell_type": "markdown",
      "metadata": {
        "id": "r53zpu-mTyhU"
      },
      "source": [
        "### Question 2: Text representation\n",
        "---\n",
        "\n",
        "1. Transform the training data into a matrix of **word** unigram feature vectors.\n",
        "  1. What is the size of the vocabulary? \n",
        "  1. What is the average number of non-zero features per example?  \n",
        "  1. What is the fraction of the non-zero entries in the matrix?  \n",
        "  1. What are the 0th and last feature strings (in alphabetical order)?\n",
        "  - _Use `CountVectorization` and its `.fit_transform` method.  Use `.nnz` and `.shape` attributes, and `.get_feature_names` method._\n",
        "1. Now transform the training data into a matrix of **word** unigram feature vectors restricting to the vocabulary with these 4 words: [\"atheism\", \"graphics\", \"space\", \"religion\"].  Confirm the size of the vocabulary. \n",
        "  1. What is the average number of non-zero features per example?\n",
        "  - _Use `CountVectorization(vocabulary=...)` and its `.transform` method._\n",
        "1. Now transform the training data into a matrix of **character** bigram and trigram feature vectors.  \n",
        "  1. What is the size of the vocabulary?\n",
        "  - _Use `CountVectorization(analyzer=..., ngram_range=...)` and its `.fit_transform` method._\n",
        "1. Now transform the training data into a matrix of **word** unigram feature vectors and prune words that appear in fewer than 10 documents.  \n",
        "  1. What is the size of the vocabulary?<br/>\n",
        "  - _Use `CountVectorization(min_df=...)` and its `.fit_transform` method._\n",
        "1. Now again transform the training data into a matrix of **word** unigram feature vectors. \n",
        " 1. What is the fraction of words in the development vocabulary that is missing from the training vocabulary?\n",
        " - _Hint: Build vocabularies for both train and dev and look at the size of the difference._\n",
        "\n",
        "Notes:\n",
        "* `.fit_transform` makes 2 passes through the data: first it computes the vocabulary (\"fit\"), second it converts the raw text into feature vectors using the vocabulary (\"transform\").\n",
        "* `.fit_transform` and `.transform` return sparse matrix objects.  See about them at http://docs.scipy.org/doc/scipy-0.14.0/reference/generated/scipy.sparse.csr_matrix.html. "
      ]
    },
    {
      "cell_type": "code",
      "metadata": {
        "id": "_xkWZwBVTyhV",
        "colab": {
          "base_uri": "https://localhost:8080/"
        },
        "outputId": "c9ad6747-0ed8-484d-b016-d1ca75159b1e"
      },
      "source": [
        "def Q2():\n",
        "    ### STUDENT START ###\n",
        "    #create vectorizer to covert collection of text documents to a matrix\n",
        "  vectorizer = CountVectorizer()\n",
        "  X = vectorizer.fit_transform(train_data)\n",
        "  #create vocab dict object\n",
        "  vocab = vectorizer.get_feature_names()\n",
        "\n",
        "  #Count total amount of words including repeats in dict object\n",
        "  vocab_total = len(vocab)\n",
        "  #display answers to q2.1\n",
        "  print('Answers for Question 2.1:')\n",
        "  print('The size of vocabulary is:', + vocab_total)\n",
        "  print('The average number of non-zero features per example is: ' + str(X.nnz))\n",
        "  #compute fraction of non-zero entities in matrix\n",
        "  fraction = X.nnz/(2034*26879)\n",
        "  #create vocab list to find 0th and last string features\n",
        "  vocab_list = vectorizer.get_feature_names()\n",
        "  print('The fraction of non-zero entities in the matrix is: ' + '%.4f' % fraction)\n",
        "  print('The 0th feature string is: ' + vocab_list[0] )\n",
        "  print('The last feature string is: ' + vocab_list[len(vocab_list)-1])\n",
        "\n",
        "  #create new vectorizer for question 2.2 with restricted vocabulary\n",
        "  vectorizer2_2 = CountVectorizer(vocabulary= [\"atheism\", \"graphics\", \"space\", \"religion\"])\n",
        "  X2_2 = vectorizer2_2.transform(train_data)\n",
        "  print('\\nAnswer for Question 2.2:')\n",
        "  print('The average number of non-zero features per example for new vectorizer is: ' + str(X2_2.nnz))\n",
        "\n",
        "  #create new vectorizer with character bigram and trigram feature vectors\n",
        "  vectorizer2_3 = CountVectorizer(analyzer='char', ngram_range=(2,3))\n",
        "  X2_3 = vectorizer2_3.fit_transform(train_data)\n",
        "  vocab_2_3 = vectorizer2_3.vocabulary_\n",
        "  vocab_2_3_values = vocab_2_3.values()\n",
        "  vocab_2_3_total = sum(vocab_2_3_values)\n",
        "  print('\\nAnswer for Question 2.3:')\n",
        "  print(\"The size of vocabulary for CountVectorizer for bigram and trigram characters is: \" + str(vocab_2_3_total))\n",
        "\n",
        "  #create new vectorizer with word unigram feature vectors and prune words that appear in fewer than 10 documents\n",
        "  vectorizer2_4 = CountVectorizer(analyzer='word', min_df=10)\n",
        "  X2_4 = vectorizer2_4.fit_transform(train_data)\n",
        "  vocab_2_4 = vectorizer2_4.vocabulary_\n",
        "  vocab_2_4_values = vocab_2_4.values()\n",
        "  vocab_2_4_total = sum(vocab_2_4_values)\n",
        "  print('\\nAnswer for Question 2.4:')\n",
        "  print(\"The size of vocabulary for a CountVectorizer for word unigram feature vectors and \\npruning words that appear in fewer than 10 documents: \" + str(vocab_2_4_total))\n",
        "\n",
        "  #question 2.5\n",
        "  vectorizer2_5 = CountVectorizer(analyzer='word')\n",
        "  X2_5 = vectorizer2_5.fit_transform(dev_data)\n",
        "  vocab_dev = vectorizer2_5.vocabulary_\n",
        "\n",
        "  vocab_dev_total = len(vocab_dev)\n",
        "  print('\\nAnswer for Question 2.5:')\n",
        "  vocab_diff = (vocab_total - vocab_dev_total)/vocab_total\n",
        "  print('Fraction of words in dev vocab that is missing from training vocab: ' + '%4f' % vocab_diff)\n",
        "      ### STUDENT END ###\n",
        "\n",
        "Q2()"
      ],
      "execution_count": null,
      "outputs": [
        {
          "output_type": "stream",
          "name": "stdout",
          "text": [
            "Answers for Question 2.1:\n",
            "The size of vocabulary is: 26879\n",
            "The average number of non-zero features per example is: 196700\n",
            "The fraction of non-zero entities in the matrix is: 0.0036\n",
            "The 0th feature string is: 00\n",
            "The last feature string is: zyxel\n",
            "\n",
            "Answer for Question 2.2:\n",
            "The average number of non-zero features per example for new vectorizer is: 546\n",
            "\n",
            "Answer for Question 2.3:\n",
            "The size of vocabulary for CountVectorizer for bigram and trigram characters is: 629326503\n",
            "\n",
            "Answer for Question 2.4:\n",
            "The size of vocabulary for a CountVectorizer for word unigram feature vectors and \n",
            "pruning words that appear in fewer than 10 documents: 4692516\n",
            "\n",
            "Answer for Question 2.5:\n",
            "Fraction of words in dev vocab that is missing from training vocab: 0.395588\n"
          ]
        }
      ]
    },
    {
      "cell_type": "markdown",
      "metadata": {
        "id": "dIaSTL9OTyhX"
      },
      "source": [
        "### Question 3: Initial model evaluation\n",
        "---\n",
        "\n",
        "1. Transform the training and development data to matrices of word unigram feature vectors.\n",
        "1. Produce several k-Nearest Neigbors models by varying k, including one with k set to optimize f1 score.  For each model, show the k value and f1 score. \n",
        "1. Produce several Naive Bayes models by varying smoothing (alpha), including one with alpha set approximately to optimize f1 score.  For each model, show the alpha value and f1 score.\n",
        "1. Produce several Logistic Regression models by varying L2 regularization strength (C), including one with C set approximately to optimize f1 score.  For each model, show the C value, f1 score, and sum of squared weights for each topic.\n",
        "1. Why doesn't k-Nearest Neighbors work well for this problem?\n",
        "1. Why doesn't Logistic Regression work as well as Naive Bayes does?\n",
        "1. What is the relationship between logistic regression's sum of squared weights vs. C value?\n",
        "\n",
        "Notes:\n",
        "* Train on the transformed training data.\n",
        "* Evaluate on the transformed development data.\n",
        "* You can use `CountVectorizer` and its `.fit_transform` and `.transform` methods to transform data.\n",
        "* You can use `KNeighborsClassifier(...)` to produce a k-Nearest Neighbors model.\n",
        "* You can use `MultinomialNB(...)` to produce a Naive Bayes model.\n",
        "* You can use `LogisticRegression(C=..., solver=\"liblinear\", multi_class=\"auto\")` to produce a Logistic Regression model.\n",
        "* You can use `LogisticRegression`'s `.coef_` method to get weights for each topic.\n",
        "* You can use `metrics.f1_score(..., average=\"weighted\")` to compute f1 score."
      ]
    },
    {
      "cell_type": "code",
      "metadata": {
        "scrolled": false,
        "id": "g9JvhGBRTyhX",
        "colab": {
          "base_uri": "https://localhost:8080/"
        },
        "outputId": "3c0548ea-18e7-447c-ff18-684b41989314"
      },
      "source": [
        "def Q3():\n",
        "    ### STUDENT START ###\n",
        "  #Transform both train and dev data to matrices of word unigram feature vectors\n",
        "  vectorizer = CountVectorizer()\n",
        "  #Fit, learn words in train data and then transform train data into numbers\n",
        "  X_train = vectorizer.fit_transform(train_data).toarray()\n",
        "  X_dev = vectorizer.transform(dev_data).toarray()\n",
        "\n",
        "  #Produce Several K-nearest neighbors models\n",
        "  k_values = [1,3,5,7,9]\n",
        "  for k in k_values:\n",
        "    neigh = KNeighborsClassifier(k, metric = 'euclidean')\n",
        "    neigh.fit(X_train, train_labels)\n",
        "    predict_list = []\n",
        "    predict_list = neigh.predict(X_dev)\n",
        "    f1_score = metrics.f1_score(dev_labels, predict_list, average = 'weighted')\n",
        "    print(str(k) + '-Nearest Neighbor model\\'s f1 score is: ' + '%4f' % f1_score)\n",
        "\n",
        "    #Produce Several NB with varying alpha values\n",
        "  alphas = [0, 0.1, 0.3, 0.5, 0.7, 0.9, 1]\n",
        "  for alpha in alphas:\n",
        "    clf = MultinomialNB(alpha = alpha)\n",
        "    clf.fit(X_train, train_labels)\n",
        "    predict_list = []\n",
        "    predict_list = clf.predict(X_dev)\n",
        "    f1_score = metrics.f1_score(dev_labels, predict_list, average = 'weighted')\n",
        "    print('Naive Bayes model with alpha value of ' + str(alpha) + ' has a f1 score of ' + '%.4f' % f1_score)\n",
        "\n",
        "  #Produce several Logistic Regression models with varying L2 Regularization Strength\n",
        "  Cs = [.001, .01, .1, 1, 2]\n",
        "  for C in Cs:\n",
        "    logreg = LogisticRegression(C=C, solver=\"liblinear\", multi_class=\"auto\").fit(X_train, train_labels)\n",
        "    #show its f1 score\n",
        "    predict_list = []\n",
        "    predict_list = logreg.predict(X_dev)\n",
        "    f1_score = metrics.f1_score(dev_labels, predict_list, average = 'weighted')\n",
        "    print('Logistic Regression with L2 score of ' + str(C) + ' has a f1 score of ' + '%.4f' % f1_score)\n",
        "    ### STUDENT END ###\n",
        "\n",
        "Q3()"
      ],
      "execution_count": 16,
      "outputs": [
        {
          "output_type": "stream",
          "name": "stdout",
          "text": [
            "1-Nearest Neighbor model's f1 score is: 0.394710\n",
            "3-Nearest Neighbor model's f1 score is: 0.423038\n",
            "5-Nearest Neighbor model's f1 score is: 0.442839\n",
            "7-Nearest Neighbor model's f1 score is: 0.466039\n",
            "9-Nearest Neighbor model's f1 score is: 0.455744\n"
          ]
        },
        {
          "output_type": "stream",
          "name": "stderr",
          "text": [
            "/usr/local/lib/python3.7/dist-packages/sklearn/naive_bayes.py:507: UserWarning: alpha too small will result in numeric errors, setting alpha = 1.0e-10\n",
            "  'setting alpha = %.1e' % _ALPHA_MIN)\n"
          ]
        },
        {
          "output_type": "stream",
          "name": "stdout",
          "text": [
            "Naive Bayes model with alpha value of 0 has a f1 score of 0.7472\n",
            "Naive Bayes model with alpha value of 0.1 has a f1 score of 0.7903\n",
            "Naive Bayes model with alpha value of 0.3 has a f1 score of 0.7876\n",
            "Naive Bayes model with alpha value of 0.5 has a f1 score of 0.7863\n",
            "Naive Bayes model with alpha value of 0.7 has a f1 score of 0.7847\n",
            "Naive Bayes model with alpha value of 0.9 has a f1 score of 0.7811\n",
            "Naive Bayes model with alpha value of 1 has a f1 score of 0.7777\n",
            "Logistic Regression with L2 score of 0.001 has a f1 score of 0.6193\n",
            "Logistic Regression with L2 score of 0.01 has a f1 score of 0.6647\n",
            "Logistic Regression with L2 score of 0.1 has a f1 score of 0.6966\n",
            "Logistic Regression with L2 score of 1 has a f1 score of 0.6944\n",
            "Logistic Regression with L2 score of 2 has a f1 score of 0.6925\n"
          ]
        }
      ]
    },
    {
      "cell_type": "markdown",
      "metadata": {
        "id": "1K9kU5AETyhY"
      },
      "source": [
        "\n",
        "ANSWER: \n",
        "K-nearest neighbor does not work well with this problem because the classifier is assuming that the classification of an instance is most similiar to another instance that is nearby in vector space, and this is not necessarily true.\n",
        "\n",
        "Logistic Regression doesn't work as well as Naive Bayes in this case specifically because of the data sets we are working with in this problem.  Generally it is not the case that NB works better than logistic regression, and is dependent on the dataset being used. \n",
        "\n",
        "The relationship between logistic regression's sum of squared weights and C value is that the scaled sum of the square of the weights penalizes the log likehood function, and the C value is the inverse or the regularization weight."
      ]
    },
    {
      "cell_type": "markdown",
      "metadata": {
        "id": "b46HltEPTyhY"
      },
      "source": [
        "### Question 4: Feature exploration\n",
        "---\n",
        "\n",
        "1. Transform the data to a matrix of word **bigram** feature vectors.  Produce a Logistic Regression model.\n",
        "1. For each topic, find the 5 features with the largest weights (not absolute value). If there are no overlaps, you can expect 20 features in total.\n",
        "1. Show a 20 row (features) x 4 column (topics) table of the weights. So, for each of the features (words) found, we show their weight for all topics.\n",
        "1. Do you see any surprising features in this table?\n",
        "\n",
        "Notes:\n",
        "* Train on the transformed training data.\n",
        "* You can use `CountVectorizer` and its `.fit_transform` method to transform data.\n",
        "* You can use `LogisticRegression(C=0.5, solver=\"liblinear\", multi_class=\"auto\")` to produce a Logistic Regression model.\n",
        "* You can use `LogisticRegression`'s `.coef_` method to get weights for each topic.\n",
        "* You can use `np.argsort` to get indices sorted by element value. \n"
      ]
    },
    {
      "cell_type": "code",
      "metadata": {
        "id": "DerfvONsTyha",
        "colab": {
          "base_uri": "https://localhost:8080/",
          "height": 643
        },
        "outputId": "5bc1103e-995d-4b57-efba-b24591c070eb"
      },
      "source": [
        "def Q4():\n",
        "    ### STUDENT START ###\n",
        "    vectorizer = CountVectorizer(analyzer='word', ngram_range=(2,2))\n",
        "    X = vectorizer.fit_transform(train_data).toarray()\n",
        "    #X_dev = vectorizer.transform(dev_data).toarray()\n",
        "    #produce logistic regression model\n",
        "    clf = LogisticRegression(C=.5, solver = 'liblinear', multi_class='auto').fit(X, train_labels)\n",
        "    #create 4 vectors of coef weights for each topic\n",
        "    topic0 = clf.coef_[0]\n",
        "    topic1 = clf.coef_[1]\n",
        "    topic2 = clf.coef_[2]\n",
        "    topic3 = clf.coef_[3]\n",
        "    #vocab list \n",
        "    vocab_dict = vectorizer.vocabulary_\n",
        "    #retrieving key if given value function\n",
        "    def get_key(val):\n",
        "      for key, value in vocab_dict.items():\n",
        "        if val == value:\n",
        "          return key\n",
        "    #sort and flip function\n",
        "    def sort_flip(array):\n",
        "      temp_sort = np.argsort(array, axis = 0)\n",
        "      temp_sort_flip = np.flip(temp_sort)\n",
        "      return temp_sort_flip\n",
        "    #run function to create sorted arrays\n",
        "    topic0_sorted = sort_flip(topic0)\n",
        "    topic1_sorted = sort_flip(topic1)\n",
        "    topic2_sorted = sort_flip(topic2)\n",
        "    topic3_sorted = sort_flip(topic3)\n",
        "    def vectors(topic_array, weights_array):\n",
        "      index =[]\n",
        "      weights = []\n",
        "      words = []\n",
        "      #create vector of index\n",
        "      for i in range(5):\n",
        "        index.append(topic_array[i])\n",
        "      #weights vector\n",
        "      for i in index:\n",
        "        weights.append(weights_array[i])\n",
        "      #words vector\n",
        "      for i in index:\n",
        "        words.append(get_key(i))\n",
        "      return (weights, words, index)\n",
        "     #run created function to generate weights and words for each topic\n",
        "    topic0_weights, topic0_words, topic0_index = vectors(topic0_sorted, topic0) \n",
        "    topic1_weights, topic1_words, topic1_index = vectors(topic1_sorted, topic1) \n",
        "    topic2_weights, topic2_words, topic2_index = vectors(topic2_sorted, topic2) \n",
        "    topic3_weights, topic3_words, topic3_index = vectors(topic3_sorted, topic3) \n",
        "    total_words = topic0_words + topic1_words + topic2_words + topic3_words\n",
        "    total_words\n",
        "    #remove duplicate item\n",
        "    total_words.remove('cheers kent')\n",
        "    #create total index to find weights for each topic\n",
        "    total_index = topic0_index + topic1_index + topic2_index + topic3_index\n",
        "    total_index\n",
        "\n",
        "    #weights function\n",
        "    def weights_function(index_array, weights_array):\n",
        "      weights = []\n",
        "      for i in range(19):\n",
        "        weights.append(weights_array[index_array[i]])\n",
        "      return weights\n",
        "\n",
        "    topic0_weights_final = weights_function(total_index, topic0)\n",
        "    topic1_weights_final = weights_function(total_index, topic1)\n",
        "    topic2_weights_final = weights_function(total_index, topic2)\n",
        "    topic3_weights_final = weights_function(total_index, topic3)\n",
        "    #create pandas table\n",
        "    df = pd.DataFrame(list(zip(topic0_weights_final, topic1_weights_final, topic2_weights_final, topic3_weights_final)), index =total_words, columns =['topic1', 'topic2','topic3', 'topic4'])\n",
        "    return df\n",
        "    ### STUDENT END ###\n",
        "\n",
        "Q4()"
      ],
      "execution_count": 74,
      "outputs": [
        {
          "output_type": "execute_result",
          "data": {
            "text/html": [
              "<div>\n",
              "<style scoped>\n",
              "    .dataframe tbody tr th:only-of-type {\n",
              "        vertical-align: middle;\n",
              "    }\n",
              "\n",
              "    .dataframe tbody tr th {\n",
              "        vertical-align: top;\n",
              "    }\n",
              "\n",
              "    .dataframe thead th {\n",
              "        text-align: right;\n",
              "    }\n",
              "</style>\n",
              "<table border=\"1\" class=\"dataframe\">\n",
              "  <thead>\n",
              "    <tr style=\"text-align: right;\">\n",
              "      <th></th>\n",
              "      <th>topic1</th>\n",
              "      <th>topic2</th>\n",
              "      <th>topic3</th>\n",
              "      <th>topic4</th>\n",
              "    </tr>\n",
              "  </thead>\n",
              "  <tbody>\n",
              "    <tr>\n",
              "      <th>claim that</th>\n",
              "      <td>0.605549</td>\n",
              "      <td>-0.199067</td>\n",
              "      <td>-0.274345</td>\n",
              "      <td>-0.140364</td>\n",
              "    </tr>\n",
              "    <tr>\n",
              "      <th>was just</th>\n",
              "      <td>0.555720</td>\n",
              "      <td>-0.697918</td>\n",
              "      <td>-0.663766</td>\n",
              "      <td>0.534808</td>\n",
              "    </tr>\n",
              "    <tr>\n",
              "      <th>you are</th>\n",
              "      <td>0.482050</td>\n",
              "      <td>-0.131418</td>\n",
              "      <td>-0.128882</td>\n",
              "      <td>-0.227469</td>\n",
              "    </tr>\n",
              "    <tr>\n",
              "      <th>are you</th>\n",
              "      <td>0.472740</td>\n",
              "      <td>-0.279894</td>\n",
              "      <td>-0.481305</td>\n",
              "      <td>0.028373</td>\n",
              "    </tr>\n",
              "    <tr>\n",
              "      <th>looking for</th>\n",
              "      <td>0.446953</td>\n",
              "      <td>-0.248257</td>\n",
              "      <td>-0.097135</td>\n",
              "      <td>-0.305625</td>\n",
              "    </tr>\n",
              "    <tr>\n",
              "      <th>in advance</th>\n",
              "      <td>-0.630341</td>\n",
              "      <td>1.108375</td>\n",
              "      <td>-0.500050</td>\n",
              "      <td>-0.571869</td>\n",
              "    </tr>\n",
              "    <tr>\n",
              "      <th>comp graphics</th>\n",
              "      <td>-0.459351</td>\n",
              "      <td>0.832567</td>\n",
              "      <td>-0.438501</td>\n",
              "      <td>-0.418453</td>\n",
              "    </tr>\n",
              "    <tr>\n",
              "      <th>out there</th>\n",
              "      <td>-0.292166</td>\n",
              "      <td>0.801208</td>\n",
              "      <td>-0.370885</td>\n",
              "      <td>-0.285186</td>\n",
              "    </tr>\n",
              "    <tr>\n",
              "      <th>is there</th>\n",
              "      <td>-0.274803</td>\n",
              "      <td>0.758658</td>\n",
              "      <td>-0.479057</td>\n",
              "      <td>-0.277089</td>\n",
              "    </tr>\n",
              "    <tr>\n",
              "      <th>the space</th>\n",
              "      <td>-0.340882</td>\n",
              "      <td>0.754998</td>\n",
              "      <td>-0.468249</td>\n",
              "      <td>-0.257079</td>\n",
              "    </tr>\n",
              "    <tr>\n",
              "      <th>the moon</th>\n",
              "      <td>-0.268187</td>\n",
              "      <td>-0.530067</td>\n",
              "      <td>0.871114</td>\n",
              "      <td>-0.273845</td>\n",
              "    </tr>\n",
              "    <tr>\n",
              "      <th>sci space</th>\n",
              "      <td>-0.350563</td>\n",
              "      <td>-0.492747</td>\n",
              "      <td>0.831085</td>\n",
              "      <td>-0.213800</td>\n",
              "    </tr>\n",
              "    <tr>\n",
              "      <th>and such</th>\n",
              "      <td>-0.258008</td>\n",
              "      <td>-0.329172</td>\n",
              "      <td>0.621087</td>\n",
              "      <td>-0.221245</td>\n",
              "    </tr>\n",
              "    <tr>\n",
              "      <th>it was</th>\n",
              "      <td>-0.204269</td>\n",
              "      <td>-0.337509</td>\n",
              "      <td>0.590524</td>\n",
              "      <td>-0.218202</td>\n",
              "    </tr>\n",
              "    <tr>\n",
              "      <th>the fbi</th>\n",
              "      <td>-0.203029</td>\n",
              "      <td>-0.309687</td>\n",
              "      <td>0.525362</td>\n",
              "      <td>-0.313552</td>\n",
              "    </tr>\n",
              "    <tr>\n",
              "      <th>cheers kent</th>\n",
              "      <td>-0.131974</td>\n",
              "      <td>-0.211363</td>\n",
              "      <td>-0.295286</td>\n",
              "      <td>0.551990</td>\n",
              "    </tr>\n",
              "    <tr>\n",
              "      <th>ignorance is</th>\n",
              "      <td>0.555720</td>\n",
              "      <td>-0.697918</td>\n",
              "      <td>-0.663766</td>\n",
              "      <td>0.534808</td>\n",
              "    </tr>\n",
              "    <tr>\n",
              "      <th>but he</th>\n",
              "      <td>-0.158011</td>\n",
              "      <td>-0.171075</td>\n",
              "      <td>-0.139580</td>\n",
              "      <td>0.504305</td>\n",
              "    </tr>\n",
              "    <tr>\n",
              "      <th>of jesus</th>\n",
              "      <td>-0.190019</td>\n",
              "      <td>-0.216871</td>\n",
              "      <td>-0.137402</td>\n",
              "      <td>0.491875</td>\n",
              "    </tr>\n",
              "  </tbody>\n",
              "</table>\n",
              "</div>"
            ],
            "text/plain": [
              "                 topic1    topic2    topic3    topic4\n",
              "claim that     0.605549 -0.199067 -0.274345 -0.140364\n",
              "was just       0.555720 -0.697918 -0.663766  0.534808\n",
              "you are        0.482050 -0.131418 -0.128882 -0.227469\n",
              "are you        0.472740 -0.279894 -0.481305  0.028373\n",
              "looking for    0.446953 -0.248257 -0.097135 -0.305625\n",
              "in advance    -0.630341  1.108375 -0.500050 -0.571869\n",
              "comp graphics -0.459351  0.832567 -0.438501 -0.418453\n",
              "out there     -0.292166  0.801208 -0.370885 -0.285186\n",
              "is there      -0.274803  0.758658 -0.479057 -0.277089\n",
              "the space     -0.340882  0.754998 -0.468249 -0.257079\n",
              "the moon      -0.268187 -0.530067  0.871114 -0.273845\n",
              "sci space     -0.350563 -0.492747  0.831085 -0.213800\n",
              "and such      -0.258008 -0.329172  0.621087 -0.221245\n",
              "it was        -0.204269 -0.337509  0.590524 -0.218202\n",
              "the fbi       -0.203029 -0.309687  0.525362 -0.313552\n",
              "cheers kent   -0.131974 -0.211363 -0.295286  0.551990\n",
              "ignorance is   0.555720 -0.697918 -0.663766  0.534808\n",
              "but he        -0.158011 -0.171075 -0.139580  0.504305\n",
              "of jesus      -0.190019 -0.216871 -0.137402  0.491875"
            ]
          },
          "metadata": {},
          "execution_count": 74
        }
      ]
    },
    {
      "cell_type": "markdown",
      "metadata": {
        "id": "odPhAx_yTyhb"
      },
      "source": [
        "ANSWER: It's surprising how drastically different the weights are for the other coefficients for the other topic's top 5 weighted features."
      ]
    },
    {
      "cell_type": "markdown",
      "metadata": {
        "id": "UNC3BCjUTyhb"
      },
      "source": [
        "### Question 5: Pre-processing for text\n",
        "---\n",
        "\n",
        "To improve generalization, it is common to try preprocessing text in various ways before splitting into words. For example, you could try transforming strings to lower case, replacing sequences of numbers with single tokens, removing various non-letter characters, and shortening long words.\n",
        "\n",
        "1. Produce a Logistic Regression model (with no preprocessing of text). **Note that you may need to override the \"default\" preprocessing with an identity function**. Evaluate and show its f1 score and size of the dictionary.\n",
        "1. Produce an improved Logistic Regression model by preprocessing the text. Evaluate and show its f1 score and size of the vocabulary.  Aim for an improvement in f1 score of 0.02. **Note: this is actually very hard**.\n",
        "1. How much did the improved model reduce the vocabulary size?\n",
        "\n",
        "Notes:\n",
        "* Things you can try: ** ???: Anything else we can suggest** \n",
        " - Look at default pre-processing done.\n",
        " - Removing stop words.\n",
        " - Experiment with different ways of getting rid of apostrophe's such as replacing them with spaces or with empty strings.\n",
        "  - Lower casing.\n",
        "  - Including both lowercase and original case versions of a word.\n",
        "  - nltk functions such as stemming.\n",
        "* Train on the \"transformed\" training data, the data after you applied pre-processing.\n",
        "* Evaluate on the transformed development data. Note that you never want to \"learn\" anything from the dev data.\n",
        "* You can use `CountVectorizer(preprocessor=...)` to preprocess strings with your own custom-defined function.\n",
        "* `CountVectorizer` default is to preprocess strings to lower case.\n",
        "* You can use `LogisticRegression(C=0.5, solver=\"liblinear\", multi_class=\"auto\")` to produce a logistic regression model.\n",
        "* You can use `metrics.f1_score(..., average=\"weighted\")` to compute f1 score.\n",
        "* If you're not already familiar with regular expressions for manipulating strings, see https://docs.python.org/2/library/re.html, and re.sub() in particular.\n",
        "* The order you apply pre-processing may produce different results.\n"
      ]
    },
    {
      "cell_type": "code",
      "metadata": {
        "id": "3lDatbSPTyhb",
        "colab": {
          "base_uri": "https://localhost:8080/"
        },
        "outputId": "90e0445b-27d5-4398-e4e1-8bed1421691a"
      },
      "source": [
        "def Q5():\n",
        "    ### STUDENT START ###\n",
        "    #produce logistic regression with no preprocessing of text\n",
        "    vectorizer = CountVectorizer()\n",
        "    X = vectorizer.fit_transform(train_data).toarray()\n",
        "    X_dev = vectorizer.transform(dev_data).toarray()\n",
        "    #produce logistic regression model\n",
        "    clf = LogisticRegression(C=.5, solver = 'liblinear', multi_class='auto').fit(X, train_labels)\n",
        "    #show its f1 score and vocab size\n",
        "    predict_list = []\n",
        "    predict_list = clf.predict(X_dev)\n",
        "    f1_score = metrics.f1_score(dev_labels, predict_list, average = 'weighted')\n",
        "    print('Logistic Regression without preprocessing of text has a f1 score of ' + '%.4f' % f1_score)\n",
        "    #calculate vocab size\n",
        "    vocab_list = []\n",
        "    vocab_list = vectorizer.get_feature_names()\n",
        "    vocab_size = len(vocab_list)\n",
        "    print('The Vocab size for logistic regression without preprocessing is ' + str(vocab_size))\n",
        "    print('\\nPreprocessing of text using stop_words, a built in stop word list for english, results in the following:\\n')\n",
        "    #new logistic regression with preprocessing of text\n",
        "    #produce logistic regression with no preprocessing of text\n",
        "    vectorizer_improved = CountVectorizer(stop_words='english')\n",
        "    X = vectorizer_improved.fit_transform(train_data).toarray()\n",
        "    X_dev = vectorizer_improved.transform(dev_data).toarray()\n",
        "    #produce logistic regression model\n",
        "    clf = LogisticRegression(C=.5, solver = 'liblinear', multi_class='auto').fit(X, train_labels)\n",
        "    #show its f1 score and vocab size\n",
        "    predict_list = []\n",
        "    predict_list = clf.predict(X_dev)\n",
        "    f1_score = metrics.f1_score(dev_labels, predict_list, average = 'weighted')\n",
        "    print('Logistic Regression with preprocessing of text has an improved f1 score of ' + '%.4f' % f1_score)\n",
        "    #calculate vocab size\n",
        "    vocab_list = []\n",
        "    vocab_list = vectorizer_improved.get_feature_names()\n",
        "    vocab_size_new = len(vocab_list)\n",
        "    print('The Vocab size for logistic regression with preprocessing is ' + str(vocab_size))\n",
        "    print('The improved model reduced the vocabulary size by ' + str(vocab_size - vocab_size_new))\n",
        "    ### STUDENT END ###\n",
        "\n",
        "Q5()"
      ],
      "execution_count": null,
      "outputs": [
        {
          "output_type": "stream",
          "name": "stdout",
          "text": [
            "Logistic Regression without preprocessing of text has a f1 score of 0.7085\n",
            "The Vocab size for logistic regression without preprocessing is 26879\n",
            "\n",
            "Preprocessing of text using stop_words, a built in stop word list for english results in the following:\n",
            "\n",
            "Logistic Regression with preprocessing of text has an improved f1 score of 0.7237\n",
            "The Vocab size for logistic regression with preprocessing is 26879\n",
            "The improved model reduced the vocabulary size by 303\n"
          ]
        }
      ]
    },
    {
      "cell_type": "markdown",
      "metadata": {
        "id": "tLRc7vDBTyhb"
      },
      "source": [
        "### Question 6: L1 and L2 regularization\n",
        "---\n",
        "\n",
        "The idea of regularization is to avoid learning very large weights (which are likely to fit the training data, but not generalize well) by adding a penalty to the total size of the learned weights. Logistic regression seeks the set of weights that minimizes errors in the training data AND has a small total size. The default L2 regularization computes this size as the sum of the squared weights (as in Part 3 above). L1 regularization computes this size as the sum of the absolute values of the weights. Whereas L2 regularization makes all the weights relatively small, **L1 regularization drives many of the weights to 0, effectively removing unimportant features**. For this reason, we can use it as a way to do \"feature selection\".\n",
        "\n",
        "1. For several L1 regularization strengths ...\n",
        "  1. Produce a Logistic Regression model using the **L1** regularization strength.  Reduce the vocabulary to only those features that have at least one non-zero weight among the four categories.\n",
        "  1. Produce a new Logistic Regression model using the reduced vocabulary . For this new model, use an **L2** regularization strength of 0.5.  \n",
        "  1. Evaluate and show the L1 regularization strength, vocabulary size, and f1 score associated with the new model.\n",
        "1. Show a plot of f1 score vs. log vocabulary size.  Each point corresponds to a specific L1 regularization strength used to reduce the vocabulary.\n",
        "1. How does performance of the models based on reduced vocabularies compare to that of a model based on the full vocabulary?\n",
        "\n",
        "Notes:\n",
        "* No need to apply pre-processing from question 5.\n",
        "* Train on the transformed (i.e. CountVectorizer) training data.\n",
        "* Evaluate on the transformed development data (using the CountVectorizer instance you trained on the training data).\n",
        "* You can use `LogisticRegression(..., penalty=\"l1\")` to produce a logistic regression model using L1 regularization.\n",
        "* You can use `LogisticRegression(..., penalty=\"l2\")` to produce a logistic regression model using L2 regularization.\n",
        "* You can use `LogisticRegression(..., tol=0.015)` to produce a logistic regression model using relaxed gradient descent convergence criteria.  The gradient descent code that trains the logistic regression model sometimes has trouble converging with extreme settings of the C parameter. Relax the convergence criteria by setting tol=.015 (the default is .0001).\n",
        "* (solver=\"liblinear\" might be needed for it not to crash)"
      ]
    },
    {
      "cell_type": "code",
      "metadata": {
        "id": "7dva_PsvTyhb"
      },
      "source": [
        "def Q6():\n",
        "    # Keep this random seed here to make comparison easier.\n",
        "    np.random.seed(0)\n",
        "\n",
        "    ### STUDENT START ###\n",
        "\n",
        "    ### STUDENT END ###\n",
        "\n",
        "Q6()"
      ],
      "execution_count": null,
      "outputs": []
    },
    {
      "cell_type": "code",
      "metadata": {
        "colab": {
          "base_uri": "https://localhost:8080/"
        },
        "id": "NBuPW3E_IRNp",
        "outputId": "45e7a71e-0638-48dc-a07f-16a854936c38"
      },
      "source": [
        "vectorizer = CountVectorizer()\n",
        "X = vectorizer.fit_transform(train_data).toarray()\n",
        "X_dev = vectorizer.transform(dev_data).toarray()\n",
        "#Produce a logistic regularization using several L1 regularization strengths\n",
        "regularization_strength = [.001, .01, .1, .5 , 1 ]\n",
        "for strength in regularization_strength:\n",
        "  clf = LogisticRegression(C = strength, penalty='l1', solver = 'liblinear').fit(X, train_labels)\n",
        "  #show its f1 score and vocab size\n",
        "  predict_list = []\n",
        "  predict_list = clf.predict(X_dev)\n",
        "  f1_score = metrics.f1_score(dev_labels, predict_list, average = 'weighted')\n",
        "  print('Logistic Regression model using L1 regularization with a stength of ' + '%.4f' % (1/strength) + ' has a f1 score of ' + '%.4f' % f1_score)\n",
        "#Reduce vocab to ones that have at least one nnz weight among four categories\n",
        "\n",
        "#Produce new logistic regression using the reduced vocab\n",
        "\n"
      ],
      "execution_count": 18,
      "outputs": [
        {
          "output_type": "stream",
          "name": "stdout",
          "text": [
            "Logistic Regression model using L1 regularization with a stength of 1000.0000 has a f1 score of 0.2449\n",
            "Logistic Regression model using L1 regularization with a stength of 100.0000 has a f1 score of 0.4370\n",
            "Logistic Regression model using L1 regularization with a stength of 10.0000 has a f1 score of 0.6305\n"
          ]
        },
        {
          "output_type": "stream",
          "name": "stderr",
          "text": [
            "/usr/local/lib/python3.7/dist-packages/sklearn/svm/_base.py:947: ConvergenceWarning: Liblinear failed to converge, increase the number of iterations.\n",
            "  \"the number of iterations.\", ConvergenceWarning)\n"
          ]
        },
        {
          "output_type": "stream",
          "name": "stdout",
          "text": [
            "Logistic Regression model using L1 regularization with a stength of 2.0000 has a f1 score of 0.6889\n",
            "Logistic Regression model using L1 regularization with a stength of 1.0000 has a f1 score of 0.6832\n"
          ]
        },
        {
          "output_type": "stream",
          "name": "stderr",
          "text": [
            "/usr/local/lib/python3.7/dist-packages/sklearn/svm/_base.py:947: ConvergenceWarning: Liblinear failed to converge, increase the number of iterations.\n",
            "  \"the number of iterations.\", ConvergenceWarning)\n"
          ]
        }
      ]
    },
    {
      "cell_type": "markdown",
      "metadata": {
        "id": "XbrmPrLaTyhc"
      },
      "source": [
        "ANSWER: "
      ]
    },
    {
      "cell_type": "markdown",
      "metadata": {
        "id": "AQJQimS8Tyhd"
      },
      "source": [
        "### Question 7: TfIdf\n",
        "---\n",
        "As you may recall [tf-idf](https://en.wikipedia.org/wiki/Tf%E2%80%93idf) stands for *term frequency inverse document frequency* and is a way to assign a weight to each word or token signifying their importance for a document in a corpus (a collection of documents).\n",
        "\n",
        "Produce a Logistic Regression model based on data represented in tf-idf form, with L2 regularization strength of 100.  Evaluate and show the f1 score.  How is `TfidfVectorizer` different than `CountVectorizer`?\n",
        "\n",
        "1. How is `TfidfVectorizer` different than `CountVectorizer`?\n",
        "1. Show the 3 documents with highest R ratio, where ...\n",
        "  - $R\\,ratio = maximum\\,predicted\\,probability \\div predicted\\,probability\\,of\\,correct\\,label$\n",
        "1. Explain what the R ratio describes.\n",
        "1. What kinds of mistakes is the model making? Suggest a way to address one particular issue that you see.\n",
        "\n",
        "Note:\n",
        "* Train on the transformed training data.\n",
        "* Evaluate on the transformed development data.\n",
        "* You can use `TfidfVectorizer` and its `.fit_transform` method to transform data to tf-idf form.\n",
        "* You can use `LogisticRegression(C=100, solver=\"liblinear\", multi_class=\"auto\")` to produce a logistic regression model.\n",
        "* You can use `LogisticRegression`'s `.predict_proba` method to access predicted probabilities."
      ]
    },
    {
      "cell_type": "code",
      "metadata": {
        "id": "Llsrh11LTyhd",
        "colab": {
          "base_uri": "https://localhost:8080/"
        },
        "outputId": "5785a0b8-92d8-4c4f-dc10-220b3a0d37da"
      },
      "source": [
        "def Q7():\n",
        "    ### STUDENT START ###\n",
        "  #creat Tfidfvectorizer\n",
        "  tfid_vectorizer = TfidfVectorizer()\n",
        "  #fit and transform to training data\n",
        "  X_tfid = tfid_vectorizer.fit_transform(train_data).toarray()\n",
        "  X_dev = tfid_vectorizer.transform(dev_data)\n",
        "  #Produce Logistic Regressions based on data in tf-idf form\n",
        "  logreg_model = LogisticRegression(C=100, solver='liblinear', multi_class='auto').fit(X_tfid, train_labels)\n",
        "  #show its f1 score\n",
        "  predict_list = []\n",
        "  predict_list = logreg_model.predict(X_dev)\n",
        "  f1_score = metrics.f1_score(dev_labels, predict_list, average = 'weighted')\n",
        "  print('Logistic Regression model using L2 regularization score of 100 has a f1 score of ' + '%.4f\\n' % f1_score)\n",
        "\n",
        "  #Access predicted probabilites\n",
        "  predic_prob = logreg_model.predict_proba(X_dev)\n",
        "  #find max of each row \n",
        "  #compute probability of correct lable\n",
        "  predic_prob_label = logreg_model.score(X_dev, dev_labels)\n",
        "  #Compute R Ratio\n",
        "  r_ratio = predic_prob/predic_prob_label\n",
        "  #sort r_ratio to show 3 documents with highest r_ratio\n",
        "  r_ratio_sorted = np.argsort(np.max(r_ratio, axis = 1))\n",
        "  #flip array so it is in descending order\n",
        "  r_ratio_sorted_flipped = np.flip(r_ratio_sorted)\n",
        "  #Display index for top three R-ratio documents\n",
        "  print('The three documents index in dev_data that have the highest R ratio are: ')\n",
        "  for i in range(3):\n",
        "    print(r_ratio_sorted_flipped[i])\n",
        "\n",
        "    ### STUDENT END ###\n",
        "\n",
        "Q7()"
      ],
      "execution_count": 13,
      "outputs": [
        {
          "output_type": "stream",
          "name": "stdout",
          "text": [
            "Logistic Regression model using L2 regularization score of 100 has a f1 score of 0.7598\n",
            "\n",
            "The three documents index in dev_data that have the highest R ratio are: \n",
            "475\n",
            "12\n",
            "505\n"
          ]
        }
      ]
    },
    {
      "cell_type": "markdown",
      "metadata": {
        "id": "w7SnJ7mTTyhe"
      },
      "source": [
        "ANSWER: Both the TfidfTransfomer and CountVectorizer produce frequencies of the terms in the data, but TfidTransformer normalizes the count.  The R ratio is taking the max of the four labels and dividing it by the overall models label prediction.  This is showing the difference in the dev data prediction and the training prediction.  It appears the model is more favorable to the larger documents, this can be fixed by splitting portions of the document. "
      ]
    },
    {
      "cell_type": "markdown",
      "metadata": {
        "id": "Smtoa6tHTyhf"
      },
      "source": [
        "### Question 8 EXTRA CREDIT:\n",
        "---\n",
        "Produce a Logistic Regression model to implement your suggestion from Part 7."
      ]
    },
    {
      "cell_type": "code",
      "metadata": {
        "id": "uCLc-do1Tyhf"
      },
      "source": [
        ""
      ],
      "execution_count": null,
      "outputs": []
    }
  ]
}